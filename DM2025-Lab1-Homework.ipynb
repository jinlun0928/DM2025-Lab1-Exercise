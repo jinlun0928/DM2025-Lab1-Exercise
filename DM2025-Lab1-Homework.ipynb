{
 "cells": [
  {
   "cell_type": "markdown",
   "metadata": {},
   "source": [
    "### Student Information\n",
    "Name:曹靖倫\n",
    "\n",
    "Student ID:111306061\n",
    "\n",
    "GitHub ID:jinglun0928"
   ]
  },
  {
   "cell_type": "markdown",
   "metadata": {},
   "source": [
    "---"
   ]
  },
  {
   "cell_type": "markdown",
   "metadata": {},
   "source": [
    "### Instructions"
   ]
  },
  {
   "cell_type": "markdown",
   "metadata": {},
   "source": [
    "### First Phase Submission"
   ]
  },
  {
   "cell_type": "markdown",
   "metadata": {},
   "source": [
    "1. First: do the **take home** exercises in the [DM2025-Lab1-Master](https://github.com/leoson-wu/DM2025-Lab1-Exercise/blob/main/DM2025-Lab1-Master.ipynb) that considered as **phase 1 (from exercise 1 to exercise 15)**. You can answer in the master file. __This part is worth 10% of your grade.__\n",
    "\n",
    "\n",
    "2. Second: follow the same process from the [DM2025-Lab1-Master](https://github.com/leoson-wu/DM2025-Lab1-Exercise/blob/main/DM2025-Lab1-Master.ipynb) on **the new dataset** up **until phase 1**. You can skip some exercises if you think some steps are not necessary. However main exercises should be completed. You don't need to explain all details as we did (some **minimal comments** explaining your code are useful though).  __This part is worth 15% of your grade.__\n",
    "    -  Use [the new dataset](https://github.com/leoson-wu/DM2025-Lab1-Exercise/blob/main/newdataset/Reddit-stock-sentiment.csv). The dataset contains a 16 columns including 'text' and 'label', with the sentiment labels being: 1.0 is positive, 0.0 is neutral and -1.0 is negative. You can simplify the dataset and use only the columns that you think are necessary. \n",
    "    \n",
    "    - You are allowed to use and modify the `helper` functions in the folder of the first lab session (notice they may need modification) or create your own.\n",
    "    - Use this file to complete the homework from the second part. Make sure the code can be run from the beginning till the end and has all the needed output.\n",
    "\n",
    "\n",
    "3. Third: please attempt the following tasks on **the new dataset**. __This part is worth 10% of your grade.__\n",
    "    - Generate meaningful **new data visualizations**. Refer to online resources and the Data Mining textbook for inspiration and ideas. \n",
    "    \n",
    "\n",
    "\n",
    "4. Fourth: It's hard for us to follow if your code is messy, so please **tidy up your notebook** and **add minimal comments where needed**. __This part is worth 5% of your grade.__\n",
    "\n",
    "You can submit your homework following these guidelines: [DM2025-Lab1-announcement](https://github.com/leoson-wu/DM2025-Lab1-Announcement/blob/main/README.md). Make sure to commit and save your changes to your repository __BEFORE the deadline (September 28th 11:59 pm, Sunday)__. "
   ]
  },
  {
   "cell_type": "markdown",
   "metadata": {},
   "source": [
    "### Second Phase Submission "
   ]
  },
  {
   "cell_type": "markdown",
   "metadata": {},
   "source": [
    "**You can keep the answer for phase 1 for easier running and update the phase 2 on the same page.**\n",
    "\n",
    "1. First: Continue doing the **take home** exercises in the [DM2025-Lab1-Master](https://github.com/leoson-wu/DM2025-Lab1-Exercise/blob/main/DM2025-Lab1-Master.ipynb) for **phase 2, starting from Finding frequent patterns**. Use the same master(.ipynb) file. Answer from phase 1 will not be considered at this stage. You can answer in the master file. __This part is worth 10% of your grade.__\n",
    "\n",
    "\n",
    "2. Second: Continue from first phase and do the same process from the [DM2025-Lab1-Master](https://github.com/leoson-wu/DM2025-Lab1-Exercise/blob/main/DM2025-Lab1-Master.ipynb) on **the new dataset** for phase 2, starting from Finding frequent pattern. You can skip some exercises if you think some steps are not necessary. However main exercises should be completed. You don't need to explain all details as we did (some **minimal comments** explaining your code are useful though).  __This part is worth 15% of your grade.__\n",
    "    - Continue using this file to complete the homework from the second part. Make sure the code can be run from the beginning till the end and has all the needed output. Use the same new dataset as in phase 1.\n",
    "    \n",
    "    - You are allowed to use and modify the `helper` functions in the folder of the first lab session (notice they may need modification) or create your own.\n",
    "\n",
    "3. Third: please attempt the following tasks on **the new dataset**. __This part is worth 20% of your grade.__\n",
    "    - Use this file to answer.\n",
    "    - Generate **TF-IDF features** from the tokens of each text. This will generating a document matrix, however, the weights will be computed differently (using the TF-IDF value of each word per document as opposed to the word frequency).  Refer to this Scikit-learn [guide](http://scikit-learn.org/stable/modules/generated/sklearn.feature_extraction.text.TfidfVectorizer.html) .\n",
    "    - Implement a simple **Naive Bayes classifier** that automatically classifies the records into their categories. Use both the TF-IDF features and word frequency features to build two seperate classifiers. Note that for the TF-IDF features you might need to use other type of NB classifier different than the one in the Master Notebook. Comment on the differences and when using augmentation with feature pattern.  Refer to this [article](https://hub.packtpub.com/implementing-3-naive-bayes-classifiers-in-scikit-learn/).\n",
    "\n",
    "\n",
    "4. Fourth: In the lab, we applied each step really quickly just to illustrate how to work with your dataset. There are somethings that are not ideal or the most efficient/meaningful. Each dataset can be handled differently as well. What are those inefficent parts you noticed? How can you improve the Data preprocessing for these specific datasets? __This part is worth 10% of your grade.__\n",
    "\n",
    "\n",
    "5. Fifth: It's hard for us to follow if your code is messy, so please **tidy up your notebook** and **add minimal comments where needed**. __This part is worth 5% of your grade.__\n",
    "\n",
    "\n",
    "You can submit your homework following these guidelines: [DM2025-Lab1-announcement](https://github.com/leoson-wu/DM2025-Lab1-Announcement/blob/main/README.md). Make sure to commit and save your changes to your repository __BEFORE the deadline (October 19th 11:59 pm, Sunday)__. "
   ]
  },
  {
   "cell_type": "markdown",
   "metadata": {},
   "source": [
    "# Phase 1"
   ]
  },
  {
   "cell_type": "code",
   "execution_count": 3,
   "metadata": {},
   "outputs": [
    {
     "name": "stderr",
     "output_type": "stream",
     "text": [
      "[nltk_data] Downloading package punkt to\n",
      "[nltk_data]     C:\\Users\\user\\AppData\\Roaming\\nltk_data...\n",
      "[nltk_data]   Package punkt is already up-to-date!\n"
     ]
    },
    {
     "name": "stdout",
     "output_type": "stream",
     "text": [
      "Environment setup completed!\n"
     ]
    }
   ],
   "source": [
    "# Environment Setup\n",
    "import pandas as pd\n",
    "import numpy as np\n",
    "import nltk\n",
    "nltk.download('punkt')\n",
    "from sklearn.feature_extraction.text import CountVectorizer\n",
    "import matplotlib.pyplot as plt\n",
    "import seaborn as sns\n",
    "import plotly.graph_objects as go\n",
    "import plotly.express as px\n",
    "import math\n",
    "import helpers.data_mining_helpers as dmh\n",
    "\n",
    "print(\"Environment setup completed!\")\n"
   ]
  },
  {
   "cell_type": "code",
   "execution_count": 5,
   "metadata": {},
   "outputs": [
    {
     "name": "stdout",
     "output_type": "stream",
     "text": [
      "=== Dataset Overview ===\n",
      "Dataset shape: (847, 16)\n",
      "Columns: ['type', 'datetime', 'post_id', 'subreddit', 'title', 'author', 'url', 'upvotes', 'downvotes', 'upvote_ratio', 'text', 'subjectivity', 'polarity', 'sentiment', 'entities', 'label']\n",
      "\n",
      "=== First few rows ===\n",
      "      type             datetime  post_id         subreddit  \\\n",
      "0  comment  2025-04-11 17:29:56  mmli62w    wallstreetbets   \n",
      "1  comment   2025-04-12 1:12:19  mmnu7v9    wallstreetbets   \n",
      "2  comment  2025-04-10 15:09:41  mmeevio       StockMarket   \n",
      "3     post  2023-08-30 17:12:55  165kllm  stockstobuytoday   \n",
      "4  comment  2025-04-11 14:48:05  mmkl6bw       StockMarket   \n",
      "\n",
      "                                               title                author  \\\n",
      "0    Retardation is on the menu boys! WSB is so back          StickyTip420   \n",
      "1  Retail giant TARGET has now declined for 10 co...  Comfortable-Dog-8437   \n",
      "2  How do you feel about a sitting president maki...          Btankersly66   \n",
      "3                              Who knows more? $VMAR             emiljenfn   \n",
      "4  The Trump administration is begging Xi Jinping...          Just-Big6411   \n",
      "\n",
      "                                                 url  upvotes  downvotes  \\\n",
      "0               https://i.redd.it/0yq2ftren8ue1.jpeg        0        NaN   \n",
      "1               https://i.redd.it/7tl6puv9waue1.jpeg      -15        NaN   \n",
      "2  https://apnews.com/article/trump-truth-social-...        1        NaN   \n",
      "3  https://www.reddit.com/r/stockstobuytoday/comm...       30        0.0   \n",
      "4  https://edition.cnn.com/2025/04/10/politics/tr...        1        NaN   \n",
      "\n",
      "   upvote_ratio                                               text  \\\n",
      "0           NaN                                   Calls on retards   \n",
      "1           NaN  Stunt as in like why did they even make a big ...   \n",
      "2           NaN                  Seeing lots of red in the ticker.   \n",
      "3          0.98  Vision Marine Technologies Inc. is rewriting t...   \n",
      "4           NaN                           He didn’t say thank you.   \n",
      "\n",
      "   subjectivity  polarity  sentiment  \\\n",
      "0      1.000000 -0.900000       -1.0   \n",
      "1      0.177778  0.083333        1.0   \n",
      "2      0.000000  0.000000        0.0   \n",
      "3      0.646970  0.216383        1.0   \n",
      "4      0.000000  0.000000        0.0   \n",
      "\n",
      "                                            entities  label  \n",
      "0                                                 []   -1.0  \n",
      "1              ['Stunt', 'company', 'deal', 'place']    0.0  \n",
      "2                                         ['ticker']    0.0  \n",
      "3  ['watercraft', 'skill', 'power', ']', 'feat', ...    1.0  \n",
      "4                                                 []   -1.0  \n",
      "\n",
      "=== Dataset info ===\n",
      "<class 'pandas.core.frame.DataFrame'>\n",
      "RangeIndex: 847 entries, 0 to 846\n",
      "Data columns (total 16 columns):\n",
      " #   Column        Non-Null Count  Dtype  \n",
      "---  ------        --------------  -----  \n",
      " 0   type          847 non-null    object \n",
      " 1   datetime      847 non-null    object \n",
      " 2   post_id       847 non-null    object \n",
      " 3   subreddit     847 non-null    object \n",
      " 4   title         847 non-null    object \n",
      " 5   author        847 non-null    object \n",
      " 6   url           847 non-null    object \n",
      " 7   upvotes       847 non-null    int64  \n",
      " 8   downvotes     64 non-null     float64\n",
      " 9   upvote_ratio  64 non-null     float64\n",
      " 10  text          847 non-null    object \n",
      " 11  subjectivity  847 non-null    float64\n",
      " 12  polarity      847 non-null    float64\n",
      " 13  sentiment     847 non-null    float64\n",
      " 14  entities      847 non-null    object \n",
      " 15  label         847 non-null    float64\n",
      "dtypes: float64(6), int64(1), object(9)\n",
      "memory usage: 106.0+ KB\n",
      "None\n"
     ]
    }
   ],
   "source": [
    "# Load Reddit Stock Sentiment Dataset\n",
    "df = pd.read_csv('newdataset/Reddit-stock-sentiment.csv')\n",
    "\n",
    "print(\"=== Dataset Overview ===\")\n",
    "print(f\"Dataset shape: {df.shape}\")\n",
    "print(f\"Columns: {list(df.columns)}\")\n",
    "print()\n",
    "\n",
    "print(\"=== First few rows ===\")\n",
    "print(df.head())\n",
    "print()\n",
    "\n",
    "print(\"=== Dataset info ===\")\n",
    "print(df.info())\n"
   ]
  },
  {
   "cell_type": "code",
   "execution_count": 6,
   "metadata": {},
   "outputs": [
    {
     "name": "stdout",
     "output_type": "stream",
     "text": [
      "=== Exercise 1: Print text data for first three samples ===\n",
      "\n",
      "--- Sample 1 ---\n",
      "Label: -1.0\n",
      "Text: Calls on retards...\n",
      "\n",
      "--- Sample 2 ---\n",
      "Label: 0.0\n",
      "Text: Stunt as in like why did they even make a big deal about starting it in the first place? No company should ever talk about politics ever....\n",
      "\n",
      "--- Sample 3 ---\n",
      "Label: 0.0\n",
      "Text: Seeing lots of red in the ticker....\n"
     ]
    }
   ],
   "source": [
    "# Data Preprocessing - Create DataFrame similar to master notebook\n",
    "# Select only necessary columns: text and label\n",
    "X = df[['text', 'label']].copy()\n",
    "\n",
    "print(\"=== Exercise 1: Print text data for first three samples ===\")\n",
    "for i in range(3):\n",
    "    print(f\"\\n--- Sample {i+1} ---\")\n",
    "    print(f\"Label: {X.iloc[i]['label']}\")\n",
    "    print(f\"Text: {X.iloc[i]['text'][:200]}...\")\n"
   ]
  },
  {
   "cell_type": "code",
   "execution_count": 7,
   "metadata": {},
   "outputs": [
    {
     "name": "stdout",
     "output_type": "stream",
     "text": [
      "=== Exercise 2: pandas DataFrame 查詢技術實驗 ===\n",
      "1. 使用 loc 查詢前5行:\n",
      "0                                     Calls on retards\n",
      "1    Stunt as in like why did they even make a big ...\n",
      "2                    Seeing lots of red in the ticker.\n",
      "3    Vision Marine Technologies Inc. is rewriting t...\n",
      "4                             He didn’t say thank you.\n",
      "Name: text, dtype: object\n",
      "\n",
      "2. 條件查詢 - 正面情感 (label = 1.0):\n",
      "找到 109 個正面情感樣本\n",
      "\n",
      "3. 使用 query 方法:\n",
      "文字長度 > 100 的樣本數量: 337\n",
      "\n",
      "4. 隨機取樣:\n",
      "隨機選取的2個樣本:\n",
      "樣本 1: \"We\" who?...\n",
      "樣本 2: Chicken jockey...\n"
     ]
    }
   ],
   "source": [
    "# Exercise 2: Experiment with pandas DataFrame querying techniques\n",
    "print(\"=== Exercise 2: pandas DataFrame 查詢技術實驗 ===\")\n",
    "\n",
    "# 1. 使用 loc 查詢前5行\n",
    "print(\"1. 使用 loc 查詢前5行:\")\n",
    "print(X.loc[:4, 'text'])\n",
    "print()\n",
    "\n",
    "# 2. 條件查詢 - 按標籤查詢\n",
    "print(\"2. 條件查詢 - 正面情感 (label = 1.0):\")\n",
    "positive_samples = X[X['label'] == 1.0]\n",
    "print(f\"找到 {len(positive_samples)} 個正面情感樣本\")\n",
    "print()\n",
    "\n",
    "# 3. 使用 query 方法\n",
    "print(\"3. 使用 query 方法:\")\n",
    "result = X.query('text.str.len() > 100')\n",
    "print(f\"文字長度 > 100 的樣本數量: {len(result)}\")\n",
    "print()\n",
    "\n",
    "# 4. 隨機取樣\n",
    "print(\"4. 隨機取樣:\")\n",
    "random_sample = X.sample(n=2, random_state=42)\n",
    "print(\"隨機選取的2個樣本:\")\n",
    "for i, (idx, row) in enumerate(random_sample.iterrows()):\n",
    "    print(f\"樣本 {i+1}: {row['text'][:50]}...\")\n"
   ]
  },
  {
   "cell_type": "code",
   "execution_count": 8,
   "metadata": {},
   "outputs": [
    {
     "name": "stdout",
     "output_type": "stream",
     "text": [
      "=== Exercise 3: 查詢特定標籤記錄 ===\n",
      "中性情感記錄總數: 423\n",
      "\n",
      "每10個取一個的中性情感記錄 (前5個):\n",
      "\n",
      "--- 記錄 1 (原始索引: 1) ---\n",
      "文字長度: 137 字符\n",
      "文字內容: Stunt as in like why did they even make a big deal about starting it in the first place? No company should ever talk about politics ever....\n",
      "\n",
      "--- 記錄 2 (原始索引: 22) ---\n",
      "文字長度: 45 字符\n",
      "文字內容: Google \"target dei\".\n",
      "\n",
      "I did it for you.\n",
      "\n",
      "...\n",
      "\n",
      "--- 記錄 3 (原始索引: 40) ---\n",
      "文字長度: 85 字符\n",
      "文字內容: These China AI factory memes are pretty good. I gotta admit they boomed us this time....\n",
      "\n",
      "--- 記錄 4 (原始索引: 55) ---\n",
      "文字長度: 9 字符\n",
      "文字內容: The steal...\n",
      "\n",
      "--- 記錄 5 (原始索引: 72) ---\n",
      "文字長度: 524 字符\n",
      "文字內容: A lot of stocks are down right now, and I'm thinking of spending 250 on the below tmmw. Thoughts (some are partial cuz im using robinhood)?\n",
      "\n",
      "Reddit - $60\n",
      "\n",
      "Nvidia - $70\n",
      "\n",
      "KULR - $40\n",
      "\n",
      "ICU - $40\n",
      "...\n"
     ]
    }
   ],
   "source": [
    "# Exercise 3: Query specific label records\n",
    "print(\"=== Exercise 3: 查詢特定標籤記錄 ===\")\n",
    "\n",
    "# 查詢中性情感記錄 (label = 0.0)\n",
    "neutral_records = X[X['label'] == 0.0]\n",
    "print(f\"中性情感記錄總數: {len(neutral_records)}\")\n",
    "print()\n",
    "\n",
    "# 每10個取一個，只顯示前5個\n",
    "every_10th = neutral_records.iloc[::10]\n",
    "first_5 = every_10th.head(5)\n",
    "\n",
    "print(\"每10個取一個的中性情感記錄 (前5個):\")\n",
    "for i, (idx, row) in enumerate(first_5.iterrows()):\n",
    "    print(f\"\\n--- 記錄 {i+1} (原始索引: {idx}) ---\")\n",
    "    print(f\"文字長度: {len(row['text'])} 字符\")\n",
    "    print(f\"文字內容: {row['text'][:200]}...\")\n"
   ]
  },
  {
   "cell_type": "code",
   "execution_count": 9,
   "metadata": {},
   "outputs": [
    {
     "name": "stdout",
     "output_type": "stream",
     "text": [
      "=== Exercise 4: 計算每筆記錄的缺失值 ===\n",
      "每筆記錄的缺失值數量:\n",
      "0    (The amoung of missing records is: , 0)\n",
      "1    (The amoung of missing records is: , 0)\n",
      "2    (The amoung of missing records is: , 0)\n",
      "3    (The amoung of missing records is: , 0)\n",
      "4    (The amoung of missing records is: , 0)\n",
      "5    (The amoung of missing records is: , 0)\n",
      "6    (The amoung of missing records is: , 0)\n",
      "7    (The amoung of missing records is: , 0)\n",
      "8    (The amoung of missing records is: , 0)\n",
      "9    (The amoung of missing records is: , 0)\n",
      "dtype: object\n"
     ]
    }
   ],
   "source": [
    "# Exercise 4: Calculate missing values per record using axis parameter\n",
    "print(\"=== Exercise 4: 計算每筆記錄的缺失值 ===\")\n",
    "\n",
    "# 計算每筆記錄的缺失值\n",
    "missing_values_per_record = X.isnull().apply(lambda x: dmh.check_missing_values(x), axis=1)\n",
    "print(\"每筆記錄的缺失值數量:\")\n",
    "print(missing_values_per_record.head(10))\n"
   ]
  },
  {
   "cell_type": "code",
   "execution_count": 17,
   "metadata": {},
   "outputs": [
    {
     "name": "stdout",
     "output_type": "stream",
     "text": [
      "=== Exercise 5: 檢查資料和過程 ===\n",
      "1. 檢查資料類型:\n",
      "text      object\n",
      "label    float64\n",
      "dtype: object\n",
      "\n",
      "2. 檢查是否有空字串:\n",
      "空字串數量: 0\n",
      "\n",
      "3. 檢查是否有只包含空白字符的字串:\n",
      "只包含空白字符的字串數量: 0\n",
      "\n",
      "4. 檢查文字長度分佈:\n",
      "最短文字長度: 1, 最長: 2753, 平均: 148.68\n",
      "\n",
      "5. 檢查標籤分佈:\n",
      "label\n",
      " 0.0    423\n",
      "-1.0    315\n",
      " 1.0    109\n",
      "Name: count, dtype: int64\n",
      "\n"
     ]
    }
   ],
   "source": [
    "# Exercise 5: Check data and process, describe observations\n",
    "print(\"=== Exercise 5: 檢查資料和過程 ===\")\n",
    "\n",
    "# 檢查資料類型\n",
    "print(\"1. 檢查資料類型:\")\n",
    "print(X.dtypes)\n",
    "print()\n",
    "\n",
    "# 檢查是否有空字串\n",
    "print(\"2. 檢查是否有空字串:\")\n",
    "empty_strings = (X['text'] == '').sum()\n",
    "print(f\"空字串數量: {empty_strings}\")\n",
    "print()\n",
    "\n",
    "# 檢查是否有只包含空白字符的字串\n",
    "print(\"3. 檢查是否有只包含空白字符的字串:\")\n",
    "whitespace_only = X['text'].str.strip().eq('').sum()\n",
    "print(f\"只包含空白字符的字串數量: {whitespace_only}\")\n",
    "print()\n",
    "\n",
    "# 檢查文字長度分佈\n",
    "print(\"4. 檢查文字長度分佈:\")\n",
    "text_lengths = X['text'].str.len()\n",
    "print(f\"最短文字長度: {text_lengths.min()}, 最長: {text_lengths.max()}, 平均: {text_lengths.mean():.2f}\")\n",
    "print()\n",
    "\n",
    "# 檢查標籤分佈\n",
    "print(\"5. 檢查標籤分佈:\")\n",
    "print(X['label'].value_counts())\n",
    "print()"
   ]
  },
  {
   "cell_type": "code",
   "execution_count": 18,
   "metadata": {},
   "outputs": [
    {
     "name": "stdout",
     "output_type": "stream",
     "text": [
      "=== 數據取樣 ===\n",
      "原始數據集大小: (847, 2)\n",
      "取樣後數據集大小: (847, 2)\n",
      "\n",
      "=== Exercise 6: 比較 X 和 X_sample DataFrame 的變化 ===\n",
      "1. DataFrame 形狀比較:\n",
      "X 的形狀: (847, 2)\n",
      "X_sample 的形狀: (847, 2)\n",
      "\n",
      "2. 標籤分佈比較:\n",
      "X 的標籤分佈:\n",
      "label\n",
      " 0.0    423\n",
      "-1.0    315\n",
      " 1.0    109\n",
      "Name: count, dtype: int64\n",
      "\n",
      "X_sample 的標籤分佈:\n",
      "label\n",
      " 0.0    423\n",
      "-1.0    315\n",
      " 1.0    109\n",
      "Name: count, dtype: int64\n",
      "\n"
     ]
    }
   ],
   "source": [
    "# Data Sampling\n",
    "print(\"=== 數據取樣 ===\")\n",
    "\n",
    "# 創建取樣數據集\n",
    "X_sample = X.sample(n=min(1000, len(X)), random_state=42)\n",
    "print(f\"原始數據集大小: {X.shape}\")\n",
    "print(f\"取樣後數據集大小: {X_sample.shape}\")\n",
    "print()\n",
    "\n",
    "# Exercise 6: Compare changes between X and X_sample DataFrames\n",
    "print(\"=== Exercise 6: 比較 X 和 X_sample DataFrame 的變化 ===\")\n",
    "\n",
    "# 1. 檢查 DataFrame 形狀\n",
    "print(\"1. DataFrame 形狀比較:\")\n",
    "print(f\"X 的形狀: {X.shape}\")\n",
    "print(f\"X_sample 的形狀: {X_sample.shape}\")\n",
    "print()\n",
    "\n",
    "# 2. 檢查標籤分佈\n",
    "print(\"2. 標籤分佈比較:\")\n",
    "print(\"X 的標籤分佈:\")\n",
    "print(X['label'].value_counts())\n",
    "print(\"\\nX_sample 的標籤分佈:\")\n",
    "print(X_sample['label'].value_counts())\n",
    "print()\n"
   ]
  },
  {
   "cell_type": "code",
   "execution_count": 19,
   "metadata": {},
   "outputs": [
    {
     "name": "stdout",
     "output_type": "stream",
     "text": [
      "=== 文本轉換和詞頻分析 ===\n",
      "文檔-詞彙矩陣形狀: (847, 4346)\n",
      "詞彙數量: 4346\n",
      "\n",
      "詞頻統計:\n",
      "最高頻率: 920\n",
      "最低頻率: 1\n",
      "平均頻率: 4.84\n",
      "\n",
      "=== Exercise 7: 自動化 ylim 參數 ===\n",
      "原始硬編碼方式: plt.ylim(0, 1000)\n",
      "自動化方式: plt.ylim(0, 920)\n",
      "最大值 + 10% 邊距: plt.ylim(0, 1012)\n",
      "\n"
     ]
    }
   ],
   "source": [
    "# Text Transformation and Term Frequency Analysis\n",
    "print(\"=== 文本轉換和詞頻分析 ===\")\n",
    "\n",
    "# 使用 CountVectorizer 進行文本轉換\n",
    "count_vect = CountVectorizer()\n",
    "X_counts = count_vect.fit_transform(X_sample.text)\n",
    "\n",
    "print(f\"文檔-詞彙矩陣形狀: {X_counts.shape}\")\n",
    "print(f\"詞彙數量: {len(count_vect.get_feature_names_out())}\")\n",
    "print()\n",
    "\n",
    "# 計算詞頻\n",
    "term_frequencies = np.asarray(X_counts.sum(axis=0))[0]\n",
    "print(f\"詞頻統計:\")\n",
    "print(f\"最高頻率: {max(term_frequencies)}\")\n",
    "print(f\"最低頻率: {min(term_frequencies)}\")\n",
    "print(f\"平均頻率: {np.mean(term_frequencies):.2f}\")\n",
    "print()\n",
    "\n",
    "# Exercise 7: Automate ylim parameters instead of hard-coding\n",
    "print(\"=== Exercise 7: 自動化 ylim 參數 ===\")\n",
    "\n",
    "# 自動化 ylim 參數\n",
    "max_value = max(term_frequencies)\n",
    "print(f\"原始硬編碼方式: plt.ylim(0, 1000)\")\n",
    "print(f\"自動化方式: plt.ylim(0, {max_value})\")\n",
    "print(f\"最大值 + 10% 邊距: plt.ylim(0, {max_value * 1.1:.0f})\")\n",
    "print()\n"
   ]
  },
  {
   "cell_type": "code",
   "execution_count": 20,
   "metadata": {},
   "outputs": [
    {
     "name": "stdout",
     "output_type": "stream",
     "text": [
      "=== Exercise 8: 並排比較兩個資料集的分佈 ===\n"
     ]
    },
    {
     "data": {
      "image/png": "[encoded data removed]",
      "text/plain": [
       "<Figure size 1500x600 with 2 Axes>"
      ]
     },
     "metadata": {},
     "output_type": "display_data"
    }
   ],
   "source": [
    "# Exercise 8: Side-by-side comparison of distribution between two datasets\n",
    "print(\"=== Exercise 8: 並排比較兩個資料集的分佈 ===\")\n",
    "\n",
    "# 計算對數詞頻\n",
    "term_frequencies_log = [math.log(i) for i in term_frequencies]\n",
    "\n",
    "# 創建並排比較圖\n",
    "fig, (ax1, ax2) = plt.subplots(1, 2, figsize=(15, 6))\n",
    "\n",
    "# 左圖：原始 term_frequencies\n",
    "ax1.bar(range(len(term_frequencies[:100])), term_frequencies[:100])\n",
    "ax1.set_title('Term Frequencies (Original)')\n",
    "ax1.set_xlabel('Terms')\n",
    "ax1.set_ylabel('Frequency')\n",
    "ax1.set_ylim(0, max(term_frequencies[:100]) * 1.1)\n",
    "\n",
    "# 右圖：對數 term_frequencies_log\n",
    "ax2.bar(range(len(term_frequencies_log[:100])), term_frequencies_log[:100])\n",
    "ax2.set_title('Term Frequencies (Log Scale)')\n",
    "ax2.set_xlabel('Terms')\n",
    "ax2.set_ylabel('Log Frequency')\n",
    "ax2.set_ylim(0, max(term_frequencies_log[:100]) * 1.1)\n",
    "\n",
    "plt.tight_layout()\n",
    "plt.show()\n",
    "\n"
   ]
  },
  {
   "cell_type": "code",
   "execution_count": 21,
   "metadata": {},
   "outputs": [
    {
     "name": "stdout",
     "output_type": "stream",
     "text": [
      "=== Exercise 9: 使用 analyzer 分析第一個記錄 ===\n",
      "第一個記錄的原始文字:\n",
      "\"We\" who?...\n",
      "\n",
      "使用 analyzer 分析後的 tokens:\n",
      "['we', 'who']\n",
      "\n",
      "總共 tokens 數量: 2\n",
      "前10個 tokens: ['we', 'who']\n",
      "後10個 tokens: ['we', 'who']\n",
      "\n"
     ]
    }
   ],
   "source": [
    "# Exercise 9: Analyze first record with analyzer\n",
    "print(\"=== Exercise 9: 使用 analyzer 分析第一個記錄 ===\")\n",
    "\n",
    "# 使用 build_analyzer() 分析第一個記錄\n",
    "analyze = count_vect.build_analyzer()\n",
    "first_record_tokens = analyze(X_sample.iloc[0]['text'])\n",
    "\n",
    "print(\"第一個記錄的原始文字:\")\n",
    "print(X_sample.iloc[0]['text'][:200] + \"...\")\n",
    "print()\n",
    "\n",
    "print(\"使用 analyzer 分析後的 tokens:\")\n",
    "print(first_record_tokens[:20])  # 只顯示前20個 tokens\n",
    "print()\n",
    "\n",
    "print(\"總共 tokens 數量:\", len(first_record_tokens))\n",
    "print(\"前10個 tokens:\", first_record_tokens[:10])\n",
    "print(\"後10個 tokens:\", first_record_tokens[-10:])\n",
    "print()\n",
    "\n"
   ]
  },
  {
   "cell_type": "code",
   "execution_count": 22,
   "metadata": {},
   "outputs": [
    {
     "name": "stdout",
     "output_type": "stream",
     "text": [
      "=== Exercise 10: 找到第五個記錄中另一個 1 所代表的詞彙 ===\n",
      "第五個記錄的詞頻向量:\n",
      "[0 0 0 0 0 0 0 0 0 0 0 0 0 0 0 0 0 0 0 0]\n",
      "\n",
      "第五個記錄中所有非零位置:\n",
      "[ 697 3113 3866 4229]\n",
      "\n",
      "對應的詞彙:\n",
      "位置 697: 'can' (出現 1 次)\n",
      "位置 3113: 'read' (出現 1 次)\n",
      "位置 3866: 'this' (出現 1 次)\n",
      "位置 4229: 'where' (出現 1 次)\n",
      "\n",
      "=== 答案 ===\n",
      "第五個記錄中另一個 1 代表詞彙: 'read'\n",
      "位置: 3113\n"
     ]
    }
   ],
   "source": [
    "# Exercise 10: Find what word the second 1 in fifth record represents\n",
    "print(\"=== Exercise 10: 找到第五個記錄中另一個 1 所代表的詞彙 ===\")\n",
    "\n",
    "# 取得第五個記錄 (索引為 4)\n",
    "fifth_record = X_counts[4].toarray()[0]\n",
    "\n",
    "print(\"第五個記錄的詞頻向量:\")\n",
    "print(fifth_record[:20])  # 顯示前20個值\n",
    "print()\n",
    "\n",
    "# 找到所有非零位置 (值為 1 的位置)\n",
    "non_zero_positions = np.where(fifth_record > 0)[0]\n",
    "\n",
    "print(\"第五個記錄中所有非零位置:\")\n",
    "print(non_zero_positions)\n",
    "print()\n",
    "\n",
    "# 取得詞彙名稱\n",
    "vocabulary = count_vect.get_feature_names_out()\n",
    "\n",
    "print(\"對應的詞彙:\")\n",
    "for pos in non_zero_positions:\n",
    "    word = vocabulary[pos]\n",
    "    count = fifth_record[pos]\n",
    "    print(f\"位置 {pos}: '{word}' (出現 {count} 次)\")\n",
    "print()\n",
    "\n",
    "# 特別找出除了第一個位置之外的其他 1\n",
    "if len(non_zero_positions) > 1:\n",
    "    second_one_position = non_zero_positions[1]\n",
    "    second_one_word = vocabulary[second_one_position]\n",
    "    print(f\"=== 答案 ===\")\n",
    "    print(f\"第五個記錄中另一個 1 代表詞彙: '{second_one_word}'\")\n",
    "    print(f\"位置: {second_one_position}\")\n",
    "else:\n",
    "    print(\"第五個記錄中只有一個非零值\")\n"
   ]
  },
  {
   "cell_type": "code",
   "execution_count": 23,
   "metadata": {},
   "outputs": [
    {
     "name": "stdout",
     "output_type": "stream",
     "text": [
      "=== Exercise 11: 高效視覺化 term-document matrix ===\n"
     ]
    },
    {
     "data": {
      "image/png": "[encoded data removed]",
      "text/plain": [
       "<Figure size 1200x800 with 2 Axes>"
      ]
     },
     "metadata": {},
     "output_type": "display_data"
    }
   ],
   "source": [
    "# Exercise 11: Modify code to plot entire term-document matrix efficiently\n",
    "print(\"=== Exercise 11: 高效視覺化 term-document matrix ===\")\n",
    "\n",
    "# 使用隨機取樣視覺化\n",
    "def plot_random_sample(X_counts, n_docs=30, n_terms=40):\n",
    "    \"\"\"隨機取樣文檔和詞彙進行視覺化\"\"\"\n",
    "    # 隨機選擇文檔和詞彙\n",
    "    doc_indices = np.random.choice(X_counts.shape[0], min(n_docs, X_counts.shape[0]), replace=False)\n",
    "    term_indices = np.random.choice(X_counts.shape[1], min(n_terms, X_counts.shape[1]), replace=False)\n",
    "    \n",
    "    # 取得子矩陣\n",
    "    submatrix = X_counts[doc_indices][:, term_indices].toarray()\n",
    "    \n",
    "    # 繪製 heatmap\n",
    "    plt.figure(figsize=(12, 8))\n",
    "    sns.heatmap(submatrix, cmap=\"PuRd\", vmin=0, vmax=1, annot=False)\n",
    "    plt.title(f'Random Sample: {len(doc_indices)} docs × {len(term_indices)} terms')\n",
    "    plt.show()\n",
    "    \n",
    "    return submatrix\n",
    "\n",
    "# 執行隨機取樣\n",
    "sample_matrix = plot_random_sample(X_counts, n_docs=30, n_terms=40)\n",
    "\n"
   ]
  },
  {
   "cell_type": "code",
   "execution_count": 24,
   "metadata": {},
   "outputs": [
    {
     "name": "stdout",
     "output_type": "stream",
     "text": [
      "=== Exercise 12: 使用 plotly 創建互動式視覺化 ===\n",
      "創建互動式 heatmap...\n",
      "圖表已創建，但無法在此環境中顯示\n",
      "矩陣大小: (15, 25)\n",
      "非零值數量: 1\n"
     ]
    }
   ],
   "source": [
    "# Exercise 12: Create interactive visualization using plotly\n",
    "print(\"=== Exercise 12: 使用 plotly 創建互動式視覺化 ===\")\n",
    "\n",
    "# 使用 plotly 的 heatmap (簡化版)\n",
    "def create_interactive_heatmap(X_counts, n_docs=20, n_terms=20):\n",
    "    \"\"\"創建互動式 heatmap\"\"\"\n",
    "    # 隨機選擇文檔和詞彙\n",
    "    doc_indices = np.random.choice(X_counts.shape[0], min(n_docs, X_counts.shape[0]), replace=False)\n",
    "    term_indices = np.random.choice(X_counts.shape[1], min(n_terms, X_counts.shape[1]), replace=False)\n",
    "    \n",
    "    # 取得子矩陣\n",
    "    submatrix = X_counts[doc_indices][:, term_indices].toarray()\n",
    "    \n",
    "    # 取得詞彙名稱\n",
    "    vocabulary = count_vect.get_feature_names_out()\n",
    "    term_names = [vocabulary[i] for i in term_indices]\n",
    "    \n",
    "    # 創建 plotly heatmap\n",
    "    fig = go.Figure(data=go.Heatmap(\n",
    "        z=submatrix,\n",
    "        x=term_names,\n",
    "        y=[f'Doc {i}' for i in doc_indices],\n",
    "        colorscale='PuRd',\n",
    "        hoverongaps=False\n",
    "    ))\n",
    "    \n",
    "    fig.update_layout(\n",
    "        title=f'Interactive Term-Document Matrix ({len(doc_indices)} docs × {len(term_indices)} terms)',\n",
    "        xaxis_title='Terms',\n",
    "        yaxis_title='Documents',\n",
    "        width=800,\n",
    "        height=600\n",
    "    )\n",
    "    \n",
    "    # 使用不同的顯示方法\n",
    "    try:\n",
    "        fig.show()\n",
    "    except:\n",
    "        # 如果無法顯示，輸出圖表資訊\n",
    "        print(\"圖表已創建，但無法在此環境中顯示\")\n",
    "        print(f\"矩陣大小: {submatrix.shape}\")\n",
    "        print(f\"非零值數量: {np.count_nonzero(submatrix)}\")\n",
    "    \n",
    "    return submatrix\n",
    "\n",
    "# 執行互動式視覺化\n",
    "print(\"創建互動式 heatmap...\")\n",
    "sample_matrix = create_interactive_heatmap(X_counts, n_docs=15, n_terms=25)\n",
    "\n"
   ]
  },
  {
   "cell_type": "code",
   "execution_count": 25,
   "metadata": {},
   "outputs": [
    {
     "name": "stdout",
     "output_type": "stream",
     "text": [
      "=== Exercise 13: 高效減少視覺化詞彙數量 ===\n",
      "原始詞彙數量: 4346\n",
      "過濾後詞彙數量: 30\n",
      "減少比例: 99.3%\n",
      "\n",
      "選中的詞彙 (前10個):\n",
      "1. the (頻率: 920)\n",
      "2. to (頻率: 566)\n",
      "3. and (頻率: 488)\n",
      "4. is (頻率: 402)\n",
      "5. it (頻率: 350)\n",
      "6. of (頻率: 311)\n",
      "7. in (頻率: 286)\n",
      "8. that (頻率: 238)\n",
      "9. for (頻率: 214)\n",
      "10. this (頻率: 213)\n"
     ]
    }
   ],
   "source": [
    "# Exercise 13: Efficiently reduce number of terms to visualize\n",
    "print(\"=== Exercise 13: 高效減少視覺化詞彙數量 ===\")\n",
    "\n",
    "# 基於詞頻過濾，只保留高頻詞彙\n",
    "min_freq = 5  # 最小頻率閾值\n",
    "max_terms = 30  # 最大詞彙數量\n",
    "\n",
    "# 找到頻率 >= min_freq 的詞彙\n",
    "high_freq_indices = np.where(term_frequencies >= min_freq)[0]\n",
    "\n",
    "# 如果太多，選擇頻率最高的前 max_terms 個\n",
    "if len(high_freq_indices) > max_terms:\n",
    "    sorted_indices = np.argsort(term_frequencies[high_freq_indices])[::-1]\n",
    "    selected_indices = high_freq_indices[sorted_indices[:max_terms]]\n",
    "else:\n",
    "    selected_indices = high_freq_indices\n",
    "\n",
    "print(f\"原始詞彙數量: {len(vocabulary)}\")\n",
    "print(f\"過濾後詞彙數量: {len(selected_indices)}\")\n",
    "print(f\"減少比例: {(1 - len(selected_indices)/len(vocabulary))*100:.1f}%\")\n",
    "\n",
    "# 顯示選中的詞彙\n",
    "selected_terms = [vocabulary[i] for i in selected_indices]\n",
    "print(f\"\\n選中的詞彙 (前10個):\")\n",
    "for i, term in enumerate(selected_terms[:10]):\n",
    "    freq = term_frequencies[selected_indices[i]]\n",
    "    print(f\"{i+1}. {term} (頻率: {freq})\")\n"
   ]
  },
  {
   "cell_type": "code",
   "execution_count": 27,
   "metadata": {},
   "outputs": [
    {
     "name": "stdout",
     "output_type": "stream",
     "text": [
      "=== Exercise 14: 按頻率排序詞彙，觀察長尾效應 ===\n"
     ]
    },
    {
     "data": {
      "image/png": "[encoded data removed]",
      "text/plain": [
       "<Figure size 1500x600 with 2 Axes>"
      ]
     },
     "metadata": {},
     "output_type": "display_data"
    }
   ],
   "source": [
    "# Exercise 14: Sort terms by frequency to observe long tail effect\n",
    "print(\"=== Exercise 14: 按頻率排序詞彙，觀察長尾效應 ===\")\n",
    "\n",
    "# 按頻率排序詞彙\n",
    "sorted_indices = np.argsort(term_frequencies)[::-1]  # 降序排序\n",
    "sorted_freq = term_frequencies[sorted_indices]\n",
    "sorted_vocab = [vocabulary[i] for i in sorted_indices]\n",
    "\n",
    "# 只顯示前50個詞彙\n",
    "top_n = 50\n",
    "display_freq = sorted_freq[:top_n]\n",
    "display_vocab = sorted_vocab[:top_n]\n",
    "\n",
    "# 創建圖表\n",
    "plt.figure(figsize=(15, 6))\n",
    "\n",
    "# 左圖：普通尺度\n",
    "plt.subplot(1, 2, 1)\n",
    "plt.bar(range(len(display_freq)), display_freq)\n",
    "plt.title(f'Term Frequencies (Top {top_n})')\n",
    "plt.xlabel('Terms (sorted by frequency)')\n",
    "plt.ylabel('Frequency')\n",
    "plt.xticks(range(0, len(display_vocab), 5), \n",
    "           [display_vocab[i] for i in range(0, len(display_vocab), 5)], \n",
    "           rotation=45)\n",
    "\n",
    "# 右圖：對數尺度\n",
    "plt.subplot(1, 2, 2)\n",
    "plt.bar(range(len(display_freq)), display_freq)\n",
    "plt.title(f'Term Frequencies (Log Scale)')\n",
    "plt.xlabel('Terms (sorted by frequency)')\n",
    "plt.ylabel('Log Frequency')\n",
    "plt.yscale('log')\n",
    "plt.xticks(range(0, len(display_vocab), 5), \n",
    "           [display_vocab[i] for i in range(0, len(display_vocab), 5)], \n",
    "           rotation=45)\n",
    "\n",
    "plt.tight_layout()\n",
    "plt.show()\n",
    "\n"
   ]
  },
  {
   "cell_type": "code",
   "execution_count": 28,
   "metadata": {},
   "outputs": [
    {
     "name": "stdout",
     "output_type": "stream",
     "text": [
      "=== Exercise 15: 使用對數頻率分析長尾效應 ===\n"
     ]
    },
    {
     "data": {
      "image/png": "[encoded data removed]",
      "text/plain": [
       "<Figure size 1500x600 with 2 Axes>"
      ]
     },
     "metadata": {},
     "output_type": "display_data"
    }
   ],
   "source": [
    "# Exercise 15: Analyze log distribution differences and insights\n",
    "print(\"=== Exercise 15: 使用對數頻率分析長尾效應 ===\")\n",
    "\n",
    "# 使用對數頻率\n",
    "term_frequencies_log = [math.log(i) for i in term_frequencies]\n",
    "\n",
    "# 按對數頻率排序詞彙\n",
    "sorted_indices_log = np.argsort(term_frequencies_log)[::-1]  # 降序排序\n",
    "sorted_freq_log = np.array(term_frequencies_log)[sorted_indices_log]\n",
    "sorted_vocab_log = [vocabulary[i] for i in sorted_indices_log]\n",
    "\n",
    "# 只顯示前50個詞彙\n",
    "top_n = 50\n",
    "display_freq_log = sorted_freq_log[:top_n]\n",
    "display_vocab_log = sorted_vocab_log[:top_n]\n",
    "\n",
    "# 創建圖表\n",
    "plt.figure(figsize=(15, 6))\n",
    "\n",
    "# 左圖：對數頻率\n",
    "plt.subplot(1, 2, 1)\n",
    "plt.bar(range(len(display_freq_log)), display_freq_log)\n",
    "plt.title(f'Log Term Frequencies (Top {top_n})')\n",
    "plt.xlabel('Terms (sorted by log frequency)')\n",
    "plt.ylabel('Log Frequency')\n",
    "plt.xticks(range(0, len(display_vocab_log), 5), \n",
    "           [display_vocab_log[i] for i in range(0, len(display_vocab_log), 5)], \n",
    "           rotation=45)\n",
    "\n",
    "# 右圖：對數尺度的對數頻率\n",
    "plt.subplot(1, 2, 2)\n",
    "plt.bar(range(len(display_freq_log)), display_freq_log)\n",
    "plt.title(f'Log Term Frequencies (Log Scale)')\n",
    "plt.xlabel('Terms (sorted by log frequency)')\n",
    "plt.ylabel('Log Log Frequency')\n",
    "plt.yscale('log')\n",
    "plt.xticks(range(0, len(display_vocab_log), 5), \n",
    "           [display_vocab_log[i] for i in range(0, len(display_vocab_log), 5)], \n",
    "           rotation=45)\n",
    "\n",
    "plt.tight_layout()\n",
    "plt.show()\n",
    "\n"
   ]
  },
  {
   "cell_type": "markdown",
   "metadata": {},
   "source": [
    "# Phase 2"
   ]
  },
  {
   "cell_type": "code",
   "execution_count": null,
   "metadata": {},
   "outputs": [],
   "source": [
    "### Begin Assignment Here"
   ]
  }
 ],
 "metadata": {
  "kernelspec": {
   "display_name": "Python 3",
   "language": "python",
   "name": "python3"
  },
  "language_info": {
   "codemirror_mode": {
    "name": "ipython",
    "version": 3
   },
   "file_extension": ".py",
   "mimetype": "text/x-python",
   "name": "python",
   "nbconvert_exporter": "python",
   "pygments_lexer": "ipython3",
   "version": "3.11.0"
  }
 },
 "nbformat": 4,
 "nbformat_minor": 4
}
